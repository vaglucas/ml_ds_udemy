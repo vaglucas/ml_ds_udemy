import pandas as pd

base = pd.read_csv('credit-data.csv')
print(base.describe())
