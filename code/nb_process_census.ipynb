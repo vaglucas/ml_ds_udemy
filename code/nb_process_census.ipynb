{
 "cells": [
  {
   "cell_type": "code",
   "execution_count": 46,
   "metadata": {},
   "outputs": [
    {
     "data": {
      "text/plain": [
       "array([39, 39, 39, ..., 39, 39, 39], dtype=object)"
      ]
     },
     "execution_count": 46,
     "metadata": {},
     "output_type": "execute_result"
    }
   ],
   "source": [
    "from sklearn.model_selection import train_test_split\n",
    "import pandas as pd\n",
    "from sklearn.preprocessing import LabelEncoder, OneHotEncoder, Normalizer, StandardScaler\n",
    "from sklearn.compose import ColumnTransformer\n",
    "from sklearn.model_selection import train_test_split\n",
    "\n",
    "\n",
    "base = pd.read_csv('census.csv')\n",
    "previsores = base.iloc[:,0:14].values\n",
    "classe = base.iloc[:,14].values\n",
    "\n",
    "labelEnconder_previsores= LabelEncoder()\n",
    "\n",
    "previsores[:,1] = labelEnconder_previsores.fit_transform(previsores[:,1])\n",
    "previsores[:,3] = labelEnconder_previsores.fit_transform(previsores[:,3])\n",
    "previsores[:,5] = labelEnconder_previsores.fit_transform(previsores[:,5])\n",
    "previsores[:,6] = labelEnconder_previsores.fit_transform(previsores[:,6])\n",
    "previsores[:,7] = labelEnconder_previsores.fit_transform(previsores[:,7])\n",
    "previsores[:,8] = labelEnconder_previsores.fit_transform(previsores[:,8])\n",
    "previsores[:,9] = labelEnconder_previsores.fit_transform(previsores[:,9])\n",
    "previsores[:,13] = labelEnconder_previsores.fit_transform(previsores[:,13])\n",
    "previsores[:,13]\n",
    "\n",
    "\n",
    "#one hot enconde e Scaler juntos diminuem o acerto do algoritmo\n",
    "#onehotenconde = OneHotEncoder(categorical_features=[1,3,5,6,7,8,9,13])\n",
    "#previsores = onehotenconde.fit_transform(previsores).toarray()\n",
    "\n"
   ]
  },
  {
   "cell_type": "markdown",
   "metadata": {},
   "source": []
  },
  {
   "cell_type": "code",
   "execution_count": 47,
   "metadata": {
    "scrolled": true
   },
   "outputs": [
    {
     "name": "stderr",
     "output_type": "stream",
     "text": [
      "/Users/lucas/.conda/envs/virtualb_api/lib/python3.6/site-packages/sklearn/utils/validation.py:595: DataConversionWarning: Data with input dtype object was converted to float64 by StandardScaler.\n",
      "  warnings.warn(msg, DataConversionWarning)\n",
      "/Users/lucas/.conda/envs/virtualb_api/lib/python3.6/site-packages/sklearn/utils/validation.py:595: DataConversionWarning: Data with input dtype object was converted to float64 by StandardScaler.\n",
      "  warnings.warn(msg, DataConversionWarning)\n"
     ]
    }
   ],
   "source": [
    "\n",
    "label_classe = LabelEncoder()\n",
    "classe = label_classe.fit_transform(classe)\n",
    "classe\n",
    "\n",
    "scale = StandardScaler()\n",
    "previsores = scale.fit_transform(previsores)\n"
   ]
  },
  {
   "cell_type": "code",
   "execution_count": 48,
   "metadata": {},
   "outputs": [
    {
     "data": {
      "text/plain": [
       "array([[ 1.49692224,  0.09005041, -1.211704  , ..., -0.21665953,\n",
       "        -0.44037828,  0.29156857],\n",
       "       [ 2.37667324,  0.09005041, -0.08569879, ..., -0.21665953,\n",
       "        -1.65522476,  0.29156857],\n",
       "       [ 0.25060831,  0.09005041, -0.77705015, ..., -0.21665953,\n",
       "        -0.03542945,  0.29156857],\n",
       "       ...,\n",
       "       [-1.14233079,  0.09005041, -1.36867471, ..., -0.21665953,\n",
       "        -0.03542945,  0.29156857],\n",
       "       [ 0.47054606, -1.28363502,  0.24712496, ..., -0.21665953,\n",
       "         0.36951938,  0.29156857],\n",
       "       [-0.99570562,  0.09005041, -0.02703374, ..., -0.21665953,\n",
       "         0.61248868,  0.29156857]])"
      ]
     },
     "execution_count": 48,
     "metadata": {},
     "output_type": "execute_result"
    }
   ],
   "source": [
    "\n",
    "previsores_treinamento, previsores_teste, classe_treinamento, classe_teste = train_test_split(previsores, classe, test_size=0.25, random_state=0)\n",
    "previsores_treinamento\n"
   ]
  },
  {
   "cell_type": "code",
   "execution_count": 49,
   "metadata": {},
   "outputs": [
    {
     "data": {
      "text/plain": [
       "array([0, 0, 0, ..., 0, 0, 0])"
      ]
     },
     "execution_count": 49,
     "metadata": {},
     "output_type": "execute_result"
    }
   ],
   "source": [
    "from sklearn.naive_bayes import GaussianNB\n",
    "classificador = GaussianNB()\n",
    "\n",
    "classificador.fit(previsores_treinamento, classe_treinamento)\n",
    "previsoes = classificador.predict(previsores_teste)\n",
    "previsoes"
   ]
  },
  {
   "cell_type": "code",
   "execution_count": 50,
   "metadata": {},
   "outputs": [],
   "source": [
    "from sklearn.metrics import confusion_matrix, accuracy_score\n",
    "precisao = accuracy_score(classe_teste, previsoes)\n",
    "matriz_acertos = confusion_matrix(classe_teste, previsoes)"
   ]
  },
  {
   "cell_type": "code",
   "execution_count": 51,
   "metadata": {},
   "outputs": [
    {
     "data": {
      "text/plain": [
       "0.8045694632109077"
      ]
     },
     "execution_count": 51,
     "metadata": {},
     "output_type": "execute_result"
    }
   ],
   "source": [
    "precisao"
   ]
  },
  {
   "cell_type": "code",
   "execution_count": 52,
   "metadata": {},
   "outputs": [
    {
     "data": {
      "text/plain": [
       "array([[5864,  295],\n",
       "       [1296,  686]])"
      ]
     },
     "execution_count": 52,
     "metadata": {},
     "output_type": "execute_result"
    }
   ],
   "source": [
    "matriz_acertos"
   ]
  },
  {
   "cell_type": "code",
   "execution_count": null,
   "metadata": {},
   "outputs": [],
   "source": []
  },
  {
   "cell_type": "code",
   "execution_count": null,
   "metadata": {},
   "outputs": [],
   "source": []
  }
 ],
 "metadata": {
  "kernelspec": {
   "display_name": "Python 3",
   "language": "python",
   "name": "python3"
  },
  "language_info": {
   "codemirror_mode": {
    "name": "ipython",
    "version": 3
   },
   "file_extension": ".py",
   "mimetype": "text/x-python",
   "name": "python",
   "nbconvert_exporter": "python",
   "pygments_lexer": "ipython3",
   "version": "3.6.7"
  }
 },
 "nbformat": 4,
 "nbformat_minor": 2
}
