{
 "cells": [
  {
   "cell_type": "code",
   "execution_count": 8,
   "metadata": {},
   "outputs": [],
   "source": [
    "from sklearn.model_selection import train_test_split\n",
    "import pandas as pd\n",
    "from sklearn.preprocessing import LabelEncoder, OneHotEncoder, Normalizer, StandardScaler\n",
    "from sklearn.compose import ColumnTransformer\n",
    "from sklearn.model_selection import train_test_split\n",
    "\n",
    "\n",
    "base = pd.read_csv('census.csv')\n",
    "previsores = base.iloc[:,0:14].values\n",
    "classe = base.iloc[:,14].values\n",
    "\n",
    "labelEnconder_previsores= LabelEncoder()\n",
    "\n",
    "previsores[:,1] = labelEnconder_previsores.fit_transform(previsores[:,1])\n",
    "previsores[:,3] = labelEnconder_previsores.fit_transform(previsores[:,3])\n",
    "previsores[:,5] = labelEnconder_previsores.fit_transform(previsores[:,5])\n",
    "previsores[:,6] = labelEnconder_previsores.fit_transform(previsores[:,6])\n",
    "previsores[:,7] = labelEnconder_previsores.fit_transform(previsores[:,7])\n",
    "previsores[:,8] = labelEnconder_previsores.fit_transform(previsores[:,8])\n",
    "previsores[:,9] = labelEnconder_previsores.fit_transform(previsores[:,9])\n",
    "previsores[:,13] = labelEnconder_previsores.fit_transform(previsores[:,13])\n"
   ]
  },
  {
   "cell_type": "code",
   "execution_count": 9,
   "metadata": {},
   "outputs": [
    {
     "name": "stderr",
     "output_type": "stream",
     "text": [
      "/Users/lucas/.conda/envs/virtualb_api/lib/python3.6/site-packages/sklearn/preprocessing/_encoders.py:368: FutureWarning: The handling of integer data will change in version 0.22. Currently, the categories are determined based on the range [0, max(values)], while in the future they will be determined based on the unique values.\n",
      "If you want the future behaviour and silence this warning, you can specify \"categories='auto'\".\n",
      "In case you used a LabelEncoder before this OneHotEncoder to convert the categories to integers, then you can now use the OneHotEncoder directly.\n",
      "  warnings.warn(msg, FutureWarning)\n",
      "/Users/lucas/.conda/envs/virtualb_api/lib/python3.6/site-packages/sklearn/preprocessing/_encoders.py:390: DeprecationWarning: The 'categorical_features' keyword is deprecated in version 0.20 and will be removed in 0.22. You can use the ColumnTransformer instead.\n",
      "  \"use the ColumnTransformer instead.\", DeprecationWarning)\n"
     ]
    },
    {
     "data": {
      "text/plain": [
       "array([0., 0., 0., ..., 0., 0., 0.])"
      ]
     },
     "execution_count": 9,
     "metadata": {},
     "output_type": "execute_result"
    }
   ],
   "source": [
    "onehotenconde = OneHotEncoder(categorical_features=[1,3,5,6,7,8,9,13])\n",
    "previsores = onehotenconde.fit_transform(previsores).toarray()\n",
    "\n",
    "previsores[:,15]"
   ]
  },
  {
   "cell_type": "code",
   "execution_count": 10,
   "metadata": {},
   "outputs": [
    {
     "data": {
      "text/plain": [
       "array([[-0.2444502 , -0.17429511, -0.26209736, ..., -0.14592048,\n",
       "        -0.21665953, -0.44037828],\n",
       "       [-0.2444502 , -0.17429511, -0.26209736, ..., -0.14592048,\n",
       "        -0.21665953, -1.65522476],\n",
       "       [-0.2444502 , -0.17429511, -0.26209736, ..., -0.14592048,\n",
       "        -0.21665953, -0.03542945],\n",
       "       ...,\n",
       "       [-0.2444502 , -0.17429511, -0.26209736, ..., -0.14592048,\n",
       "        -0.21665953, -0.03542945],\n",
       "       [-0.2444502 , -0.17429511,  3.81537614, ...,  0.89508344,\n",
       "        -0.21665953,  0.36951938],\n",
       "       [-0.2444502 , -0.17429511, -0.26209736, ...,  0.20572978,\n",
       "        -0.21665953,  0.61248868]])"
      ]
     },
     "execution_count": 10,
     "metadata": {},
     "output_type": "execute_result"
    }
   ],
   "source": [
    "\n",
    "label_classe = LabelEncoder()\n",
    "classe = label_classe.fit_transform(classe)\n",
    "classe\n",
    "\n",
    "scale = StandardScaler()\n",
    "previsores = scale.fit_transform(previsores)\n",
    "\n",
    "previsores_treinamento, previsorest_teste, classe_treinamento, classe_teste = train_test_split(previsores, classe, test_size=0.25, random_state=0)\n",
    "previsores_treinamento\n"
   ]
  },
  {
   "cell_type": "code",
   "execution_count": 11,
   "metadata": {},
   "outputs": [
    {
     "data": {
      "text/plain": [
       "array([[-0.2444502 , -0.17429511, -0.26209736, ..., -0.14592048,\n",
       "        -0.21665953,  0.28852962],\n",
       "       [-0.2444502 , -0.17429511, -0.26209736, ..., -0.14592048,\n",
       "        -0.21665953, -0.03542945],\n",
       "       [-0.2444502 , -0.17429511, -0.26209736, ..., -0.14592048,\n",
       "        -0.21665953, -0.03542945],\n",
       "       ...,\n",
       "       [-0.2444502 , -0.17429511, -0.26209736, ..., -0.14592048,\n",
       "        -0.21665953, -0.03542945],\n",
       "       [-0.2444502 , -0.17429511, -0.26209736, ..., -0.14592048,\n",
       "        -0.21665953,  0.77446821],\n",
       "       [-0.2444502 , -0.17429511,  3.81537614, ..., -0.14592048,\n",
       "        -0.21665953, -0.19740898]])"
      ]
     },
     "execution_count": 11,
     "metadata": {},
     "output_type": "execute_result"
    }
   ],
   "source": [
    "previsorest_teste"
   ]
  },
  {
   "cell_type": "code",
   "execution_count": null,
   "metadata": {},
   "outputs": [],
   "source": []
  }
 ],
 "metadata": {
  "kernelspec": {
   "display_name": "Python 3",
   "language": "python",
   "name": "python3"
  },
  "language_info": {
   "codemirror_mode": {
    "name": "ipython",
    "version": 3
   },
   "file_extension": ".py",
   "mimetype": "text/x-python",
   "name": "python",
   "nbconvert_exporter": "python",
   "pygments_lexer": "ipython3",
   "version": "3.6.7"
  }
 },
 "nbformat": 4,
 "nbformat_minor": 2
}
